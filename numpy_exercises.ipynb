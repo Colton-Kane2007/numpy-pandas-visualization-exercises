{
 "cells": [
  {
   "cell_type": "code",
   "execution_count": 1,
   "metadata": {},
   "outputs": [
    {
     "data": {
      "text/plain": [
       "4"
      ]
     },
     "execution_count": 1,
     "metadata": {},
     "output_type": "execute_result"
    }
   ],
   "source": [
    "# Use the following code for the questions below:\n",
    "import numpy as np\n",
    "\n",
    "\n",
    "a = np.array([4, 10, 12, 23, -2, -1, 0, 0, 0, -6, 3, -7])\n",
    "\n",
    "\n",
    "# How many negative numbers are there?\n",
    "my_negative_mask = a < 0\n",
    "len(a[my_negative_mask])\n",
    "\n",
    "\n"
   ]
  },
  {
   "cell_type": "code",
   "execution_count": 2,
   "metadata": {},
   "outputs": [
    {
     "data": {
      "text/plain": [
       "5"
      ]
     },
     "execution_count": 2,
     "metadata": {},
     "output_type": "execute_result"
    }
   ],
   "source": [
    "import numpy as np\n",
    "\n",
    "\n",
    "a = np.array([4, 10, 12, 23, -2, -1, 0, 0, 0, -6, 3, -7])\n",
    "\n",
    "# How many positive numbers are there?\n",
    "my_positive_mask = a > 0\n",
    "len(a[my_positive_mask])\n"
   ]
  },
  {
   "cell_type": "code",
   "execution_count": 3,
   "metadata": {},
   "outputs": [
    {
     "data": {
      "text/plain": [
       "7"
      ]
     },
     "execution_count": 3,
     "metadata": {},
     "output_type": "execute_result"
    }
   ],
   "source": [
    "import numpy as np\n",
    "\n",
    "\n",
    "a = np.array([4, 10, 12, 23, -2, -1, 0, 0, 0, -6, 3, -7])\n",
    "\n",
    "# How many even positive numbers are there?\n",
    "my_positive_mask = a > 0\n",
    "len(a[my_positive_mask % 2 == 0])"
   ]
  },
  {
   "cell_type": "code",
   "execution_count": 4,
   "metadata": {},
   "outputs": [
    {
     "data": {
      "text/plain": [
       "10"
      ]
     },
     "execution_count": 4,
     "metadata": {},
     "output_type": "execute_result"
    }
   ],
   "source": [
    "import numpy as np\n",
    "\n",
    "\n",
    "a = np.array([4, 10, 12, 23, -2, -1, 0, 0, 0, -6, 3, -7])\n",
    "\n",
    "# if you were to add 3 to each data point, how many positive numbers would there be?\n",
    "add_three_mask = a + 3\n",
    "len(a[add_three_mask > 0])\n"
   ]
  },
  {
   "cell_type": "code",
   "execution_count": 6,
   "metadata": {},
   "outputs": [
    {
     "name": "stdout",
     "output_type": "stream",
     "text": [
      "74.0\n",
      "144.0243035046516\n"
     ]
    }
   ],
   "source": [
    "import numpy as np\n",
    "\n",
    "\n",
    "a = np.array([4, 10, 12, 23, -2, -1, 0, 0, 0, -6, 3, -7])\n",
    "\n",
    "# If you squared each number, what would the new mean and standard deviation be?\n",
    "squared_mask = a ** 2\n",
    "print(squared_mask.mean())\n",
    "print(squared_mask.std())\n",
    "\n"
   ]
  },
  {
   "cell_type": "code",
   "execution_count": 8,
   "metadata": {},
   "outputs": [
    {
     "data": {
      "text/plain": [
       "array([  1.,   7.,   9.,  20.,  -5.,  -4.,  -3.,  -3.,  -3.,  -9.,   0.,\n",
       "       -10.])"
      ]
     },
     "execution_count": 8,
     "metadata": {},
     "output_type": "execute_result"
    }
   ],
   "source": [
    "import numpy as np\n",
    "\n",
    "\n",
    "a = np.array([4, 10, 12, 23, -2, -1, 0, 0, 0, -6, 3, -7])\n",
    "\n",
    "# A common statistical operation on a dataset is centering. This means to adjust the data such that the mean of the data is 0. \n",
    "# This is done by subtracting the mean from each data point. Center the data set. See this link for more on centering.\n",
    "mean_mask = a.mean()\n",
    "a - mean_mask\n"
   ]
  },
  {
   "cell_type": "code",
   "execution_count": 9,
   "metadata": {},
   "outputs": [
    {
     "data": {
      "text/plain": [
       "array([ 0.12403473,  0.86824314,  1.11631261,  2.48069469, -0.62017367,\n",
       "       -0.49613894, -0.3721042 , -0.3721042 , -0.3721042 , -1.11631261,\n",
       "        0.        , -1.24034735])"
      ]
     },
     "execution_count": 9,
     "metadata": {},
     "output_type": "execute_result"
    }
   ],
   "source": [
    "import numpy as np\n",
    "\n",
    "\n",
    "a = np.array([4, 10, 12, 23, -2, -1, 0, 0, 0, -6, 3, -7])\n",
    "\n",
    "# Calculate the z-score for each data point. Recall that the z-score is given by:\n",
    "from scipy import stats\n",
    "\n",
    "stats.zscore(a, axis=None)\n"
   ]
  },
  {
   "cell_type": "code",
   "execution_count": 11,
   "metadata": {},
   "outputs": [],
   "source": [
    "import numpy as np\n",
    "## Setup 1\n",
    "a = [1, 2, 3, 4, 5, 6, 7, 8, 9, 10]\n",
    "\n",
    "# Use python's built in functionality/operators to determine the following:\n",
    "# Exercise 1 - Make a variable called sum_of_a to hold the sum of all the numbers in above list\n",
    "sum_of_a = sum(a)"
   ]
  },
  {
   "cell_type": "code",
   "execution_count": 12,
   "metadata": {},
   "outputs": [],
   "source": [
    "# Exercise 2 - Make a variable named min_of_a to hold the minimum of all the numbers in the above list\n",
    "min_of_a = min(a)"
   ]
  },
  {
   "cell_type": "code",
   "execution_count": 13,
   "metadata": {},
   "outputs": [],
   "source": [
    "# Exercise 3 - Make a variable named max_of_a to hold the max number of all the numbers in the above list\n",
    "max_of_a = max(a)"
   ]
  },
  {
   "cell_type": "code",
   "execution_count": 18,
   "metadata": {},
   "outputs": [],
   "source": [
    "# Exercise 4 - Make a variable named mean_of_a to hold the average of all the numbers in the above list\n",
    "meean_of_a = sum(a) / len(a)"
   ]
  },
  {
   "cell_type": "code",
   "execution_count": 116,
   "metadata": {},
   "outputs": [
    {
     "name": "stdout",
     "output_type": "stream",
     "text": [
      "3628800\n"
     ]
    }
   ],
   "source": [
    "# Exercise 5 - Make a variable named product_of_a to hold the product of multiplying all the numbers in the above list together\n",
    "product_of_a = 1\n",
    "for num in a:\n",
    "    product_of_a *= num\n",
    "print(product_of_a)"
   ]
  },
  {
   "cell_type": "code",
   "execution_count": 117,
   "metadata": {},
   "outputs": [
    {
     "name": "stdout",
     "output_type": "stream",
     "text": [
      "[1, 4, 9, 16, 25, 36, 49, 64, 81, 100]\n"
     ]
    }
   ],
   "source": [
    "# Exercise 6 - Make a variable named squares_of_a. It should hold each number in a squared like [1, 4, 9, 16, 25...]\n",
    "squares_of_a = [num ** 2 for num in a]\n",
    "print(squares_of_a)"
   ]
  },
  {
   "cell_type": "code",
   "execution_count": 118,
   "metadata": {},
   "outputs": [
    {
     "name": "stdout",
     "output_type": "stream",
     "text": [
      "[1, 3, 5, 7, 9]\n"
     ]
    }
   ],
   "source": [
    "# Exercise 7 - Make a variable named odds_in_a. It should hold only the odd numbers\n",
    "odds_in_a = [num for num in a if num % 2 != 0]\n",
    "print(odds_in_a)"
   ]
  },
  {
   "cell_type": "code",
   "execution_count": 119,
   "metadata": {},
   "outputs": [
    {
     "name": "stdout",
     "output_type": "stream",
     "text": [
      "[2, 4, 6, 8, 10]\n"
     ]
    }
   ],
   "source": [
    "# Exercise 8 - Make a variable named evens_in_a. It should hold only the evens.\n",
    "evens_in_a = [num for num in a if num % 2 == 0]\n",
    "print(evens_in_a)"
   ]
  },
  {
   "cell_type": "code",
   "execution_count": 120,
   "metadata": {},
   "outputs": [],
   "source": [
    "# Exercise 1 - refactor the following to use numpy. Use sum_of_b as the variable. **Hint, you'll first need to make sure that the \"b\" variable is a numpy array**\n",
    "import numpy as np\n",
    "\n",
    "b = np.array(range(1,101))\n",
    "sum_of_b = 0\n",
    "for row in b:\n",
    "    sum_of_b += row.sum()"
   ]
  },
  {
   "cell_type": "code",
   "execution_count": 158,
   "metadata": {},
   "outputs": [
    {
     "data": {
      "text/plain": [
       "1"
      ]
     },
     "execution_count": 158,
     "metadata": {},
     "output_type": "execute_result"
    }
   ],
   "source": [
    "# Exercise 2 - refactor the following to use numpy. \n",
    "import numpy as np\n",
    "\n",
    "# min_of_b = b[0].min() if b[0].min() <= b[1].min() else b[1].min()  \n",
    "b.min()\n"
   ]
  },
  {
   "cell_type": "code",
   "execution_count": 159,
   "metadata": {},
   "outputs": [
    {
     "data": {
      "text/plain": [
       "6"
      ]
     },
     "execution_count": 159,
     "metadata": {},
     "output_type": "execute_result"
    }
   ],
   "source": [
    "# Exercise 3 - refactor the following maximum calculation to find the answer with numpy.\n",
    "# max_of_b = b[0].max() if b[0].max() >= b[1].max() else b[1].max()\n",
    "b.max()\n"
   ]
  },
  {
   "cell_type": "code",
   "execution_count": 160,
   "metadata": {},
   "outputs": [
    {
     "data": {
      "text/plain": [
       "3.5"
      ]
     },
     "execution_count": 160,
     "metadata": {},
     "output_type": "execute_result"
    }
   ],
   "source": [
    "\n",
    "# Exercise 4 - refactor the following using numpy to find the mean of b\n",
    "# mean_of_b = b[0].sum() + b[1].sum() / b[0].shape + b[1].shape\n",
    "b.mean()"
   ]
  },
  {
   "cell_type": "code",
   "execution_count": 124,
   "metadata": {},
   "outputs": [],
   "source": [
    "# Exercise 5 - refactor the following to use numpy for calculating the product of all numbers multiplied together.\n",
    "b = np.array(range(1,101))\n",
    "product = np.prod(np.array(b))\n",
    "# product_of_b = 1\n",
    "# for row in b:\n",
    "    #for number in row:\n",
    "        #product_of_b *= number\n"
   ]
  },
  {
   "cell_type": "code",
   "execution_count": 125,
   "metadata": {},
   "outputs": [],
   "source": [
    "# Exercise 6 - refactor the following to use numpy to find the list of squares \n",
    "# squares_of_b = []\n",
    "# for row in b:\n",
    "    # for number in row:\n",
    "        # squares_of_b.append(number**2)\n",
    "b = np.array(range(1,101))\n",
    "sqaures_of_b = np.square(np.array(b))"
   ]
  },
  {
   "cell_type": "code",
   "execution_count": 126,
   "metadata": {},
   "outputs": [
    {
     "data": {
      "text/plain": [
       "array([ 1,  3,  5,  7,  9, 11, 13, 15, 17, 19, 21, 23, 25, 27, 29, 31, 33,\n",
       "       35, 37, 39, 41, 43, 45, 47, 49, 51, 53, 55, 57, 59, 61, 63, 65, 67,\n",
       "       69, 71, 73, 75, 77, 79, 81, 83, 85, 87, 89, 91, 93, 95, 97, 99])"
      ]
     },
     "execution_count": 126,
     "metadata": {},
     "output_type": "execute_result"
    }
   ],
   "source": [
    "# Exercise 7 - refactor using numpy to determine the odds_in_b\n",
    "# odds_in_b = []\n",
    "# for row in b:\n",
    "    # for number in row:\n",
    "        # if(number % 2 != 0):\n",
    "            # odds_in_b.append(number)\n",
    "odds_mask = b % 2 != 0\n",
    "b[odds_mask]"
   ]
  },
  {
   "cell_type": "code",
   "execution_count": 127,
   "metadata": {},
   "outputs": [
    {
     "data": {
      "text/plain": [
       "array([  2,   4,   6,   8,  10,  12,  14,  16,  18,  20,  22,  24,  26,\n",
       "        28,  30,  32,  34,  36,  38,  40,  42,  44,  46,  48,  50,  52,\n",
       "        54,  56,  58,  60,  62,  64,  66,  68,  70,  72,  74,  76,  78,\n",
       "        80,  82,  84,  86,  88,  90,  92,  94,  96,  98, 100])"
      ]
     },
     "execution_count": 127,
     "metadata": {},
     "output_type": "execute_result"
    }
   ],
   "source": [
    "# Exercise 8 - refactor the following to use numpy to filter only the even numbers\n",
    "# evens_in_b = []\n",
    "# for row in b:\n",
    "    # for number in row:\n",
    "        # if(number % 2 == 0):\n",
    "            # evens_in_b.append(number)\n",
    "evens_mask = b % 2 == 0\n",
    "b[evens_mask]"
   ]
  },
  {
   "cell_type": "code",
   "execution_count": 128,
   "metadata": {},
   "outputs": [
    {
     "data": {
      "text/plain": [
       "(100,)"
      ]
     },
     "execution_count": 128,
     "metadata": {},
     "output_type": "execute_result"
    }
   ],
   "source": [
    "# Exercise 9 - print out the shape of the array b.\n",
    "b.shape"
   ]
  },
  {
   "cell_type": "code",
   "execution_count": 129,
   "metadata": {},
   "outputs": [
    {
     "data": {
      "text/plain": [
       "array([  1,   2,   3,   4,   5,   6,   7,   8,   9,  10,  11,  12,  13,\n",
       "        14,  15,  16,  17,  18,  19,  20,  21,  22,  23,  24,  25,  26,\n",
       "        27,  28,  29,  30,  31,  32,  33,  34,  35,  36,  37,  38,  39,\n",
       "        40,  41,  42,  43,  44,  45,  46,  47,  48,  49,  50,  51,  52,\n",
       "        53,  54,  55,  56,  57,  58,  59,  60,  61,  62,  63,  64,  65,\n",
       "        66,  67,  68,  69,  70,  71,  72,  73,  74,  75,  76,  77,  78,\n",
       "        79,  80,  81,  82,  83,  84,  85,  86,  87,  88,  89,  90,  91,\n",
       "        92,  93,  94,  95,  96,  97,  98,  99, 100])"
      ]
     },
     "execution_count": 129,
     "metadata": {},
     "output_type": "execute_result"
    }
   ],
   "source": [
    "# Exercise 10 - transpose the array b.\n",
    "np.transpose(b)"
   ]
  },
  {
   "cell_type": "code",
   "execution_count": 130,
   "metadata": {},
   "outputs": [
    {
     "data": {
      "text/plain": [
       "[1,\n",
       " 2,\n",
       " 3,\n",
       " 4,\n",
       " 5,\n",
       " 6,\n",
       " 7,\n",
       " 8,\n",
       " 9,\n",
       " 10,\n",
       " 11,\n",
       " 12,\n",
       " 13,\n",
       " 14,\n",
       " 15,\n",
       " 16,\n",
       " 17,\n",
       " 18,\n",
       " 19,\n",
       " 20,\n",
       " 21,\n",
       " 22,\n",
       " 23,\n",
       " 24,\n",
       " 25,\n",
       " 26,\n",
       " 27,\n",
       " 28,\n",
       " 29,\n",
       " 30,\n",
       " 31,\n",
       " 32,\n",
       " 33,\n",
       " 34,\n",
       " 35,\n",
       " 36,\n",
       " 37,\n",
       " 38,\n",
       " 39,\n",
       " 40,\n",
       " 41,\n",
       " 42,\n",
       " 43,\n",
       " 44,\n",
       " 45,\n",
       " 46,\n",
       " 47,\n",
       " 48,\n",
       " 49,\n",
       " 50,\n",
       " 51,\n",
       " 52,\n",
       " 53,\n",
       " 54,\n",
       " 55,\n",
       " 56,\n",
       " 57,\n",
       " 58,\n",
       " 59,\n",
       " 60,\n",
       " 61,\n",
       " 62,\n",
       " 63,\n",
       " 64,\n",
       " 65,\n",
       " 66,\n",
       " 67,\n",
       " 68,\n",
       " 69,\n",
       " 70,\n",
       " 71,\n",
       " 72,\n",
       " 73,\n",
       " 74,\n",
       " 75,\n",
       " 76,\n",
       " 77,\n",
       " 78,\n",
       " 79,\n",
       " 80,\n",
       " 81,\n",
       " 82,\n",
       " 83,\n",
       " 84,\n",
       " 85,\n",
       " 86,\n",
       " 87,\n",
       " 88,\n",
       " 89,\n",
       " 90,\n",
       " 91,\n",
       " 92,\n",
       " 93,\n",
       " 94,\n",
       " 95,\n",
       " 96,\n",
       " 97,\n",
       " 98,\n",
       " 99,\n",
       " 100]"
      ]
     },
     "execution_count": 130,
     "metadata": {},
     "output_type": "execute_result"
    }
   ],
   "source": [
    "list(b)"
   ]
  },
  {
   "cell_type": "code",
   "execution_count": 131,
   "metadata": {},
   "outputs": [
    {
     "name": "stdout",
     "output_type": "stream",
     "text": [
      "[[1 2 3 4 5 6]]\n"
     ]
    }
   ],
   "source": [
    "# Exercise 11 - reshape the array b to be a single list of 6 numbers. (1 x 6)\n",
    "b = np.array(range(1,7))\n",
    "reshaped = b.reshape(1, 6)\n",
    "print(reshaped)"
   ]
  },
  {
   "cell_type": "code",
   "execution_count": 132,
   "metadata": {},
   "outputs": [
    {
     "name": "stdout",
     "output_type": "stream",
     "text": [
      "[[1]\n",
      " [2]\n",
      " [3]\n",
      " [4]\n",
      " [5]\n",
      " [6]]\n"
     ]
    }
   ],
   "source": [
    "# Exercise 12 - reshape the array b to be a list of 6 lists, each containing only 1 number (6 x 1)\n",
    "reshaped_2 = b.reshape(6, 1)\n",
    "print(reshaped_2)"
   ]
  },
  {
   "cell_type": "code",
   "execution_count": 133,
   "metadata": {},
   "outputs": [
    {
     "name": "stdout",
     "output_type": "stream",
     "text": [
      "1\n",
      "9\n",
      "[12 15 18]\n",
      "362880\n"
     ]
    }
   ],
   "source": [
    "## Setup 3\n",
    "c = [\n",
    "    [1, 2, 3],\n",
    "    [4, 5, 6],\n",
    "    [7, 8, 9]\n",
    "]\n",
    "\n",
    "# HINT, you'll first need to make sure that the \"c\" variable is a numpy array prior to using numpy array methods.\n",
    "# Exercise 1 - Find the min, max, sum, and product of c.\n",
    "c = np.array(c)\n",
    "print(c.min())\n",
    "print(c.max())\n",
    "print(sum(c))\n",
    "print(np.prod(c))"
   ]
  },
  {
   "cell_type": "code",
   "execution_count": 134,
   "metadata": {},
   "outputs": [
    {
     "data": {
      "text/plain": [
       "2.581988897471611"
      ]
     },
     "execution_count": 134,
     "metadata": {},
     "output_type": "execute_result"
    }
   ],
   "source": [
    "# Exercise 2 - Determine the standard deviation of c.\n",
    "c.std()"
   ]
  },
  {
   "cell_type": "code",
   "execution_count": 135,
   "metadata": {},
   "outputs": [
    {
     "data": {
      "text/plain": [
       "6.666666666666667"
      ]
     },
     "execution_count": 135,
     "metadata": {},
     "output_type": "execute_result"
    }
   ],
   "source": [
    "# Exercise 3 - Determine the variance of c.\n",
    "c.var()"
   ]
  },
  {
   "cell_type": "code",
   "execution_count": 136,
   "metadata": {},
   "outputs": [
    {
     "data": {
      "text/plain": [
       "(3, 3)"
      ]
     },
     "execution_count": 136,
     "metadata": {},
     "output_type": "execute_result"
    }
   ],
   "source": [
    "# Exercise 4 - Print out the shape of the array c\n",
    "c.shape"
   ]
  },
  {
   "cell_type": "code",
   "execution_count": 137,
   "metadata": {},
   "outputs": [
    {
     "name": "stdout",
     "output_type": "stream",
     "text": [
      "[[1 4 7]\n",
      " [2 5 8]\n",
      " [3 6 9]]\n"
     ]
    }
   ],
   "source": [
    "# Exercise 5 - Transpose c and print out transposed result.\n",
    "print(c.transpose())"
   ]
  },
  {
   "cell_type": "code",
   "execution_count": 162,
   "metadata": {},
   "outputs": [
    {
     "name": "stdout",
     "output_type": "stream",
     "text": [
      "[[ 30  36  42]\n",
      " [ 66  81  96]\n",
      " [102 126 150]]\n"
     ]
    }
   ],
   "source": [
    "# Exercise 6 - Get the dot product of the array c with c. \n",
    "print(np.dot(c,c))"
   ]
  },
  {
   "cell_type": "code",
   "execution_count": 139,
   "metadata": {},
   "outputs": [
    {
     "name": "stdout",
     "output_type": "stream",
     "text": [
      "261\n"
     ]
    }
   ],
   "source": [
    "# Exercise 7 - Write the code necessary to sum up the result of c times c transposed. Answer should be 261\n",
    "almost = sum(c.transpose() * c)\n",
    "print(sum(almost))"
   ]
  },
  {
   "cell_type": "code",
   "execution_count": 140,
   "metadata": {},
   "outputs": [
    {
     "name": "stdout",
     "output_type": "stream",
     "text": [
      "131681894400\n"
     ]
    }
   ],
   "source": [
    "# Exercise 8 - Write the code necessary to determine the product of c times c transposed. Answer should be 131681894400.\n",
    "lol = c.transpose()\n",
    "print(np.prod(c * lol))"
   ]
  },
  {
   "cell_type": "code",
   "execution_count": 141,
   "metadata": {},
   "outputs": [
    {
     "data": {
      "text/plain": [
       "array([[ 0.89399666, -0.98803162,  0.85090352,  0.        ,  0.58061118,\n",
       "        -0.80115264],\n",
       "       [ 0.85090352, -0.89399666,  0.98803162, -0.17604595,  0.89399666,\n",
       "         0.        ],\n",
       "       [-0.30481062,  0.85090352, -0.85090352,  0.89399666, -0.85090352,\n",
       "        -0.80115264]])"
      ]
     },
     "execution_count": 141,
     "metadata": {},
     "output_type": "execute_result"
    }
   ],
   "source": [
    "## Setup 4\n",
    "d = [\n",
    "    [90, 30, 45, 0, 120, 180],\n",
    "    [45, -90, -30, 270, 90, 0],\n",
    "    [60, 45, -45, 90, -45, 180]\n",
    "]\n",
    "\n",
    "# Exercise 1 - Find the sine of all the numbers in d\n",
    "np.sin(d)"
   ]
  },
  {
   "cell_type": "code",
   "execution_count": 142,
   "metadata": {},
   "outputs": [
    {
     "data": {
      "text/plain": [
       "array([[-0.44807362,  0.15425145,  0.52532199,  1.        ,  0.81418097,\n",
       "        -0.59846007],\n",
       "       [ 0.52532199, -0.44807362,  0.15425145,  0.98438195, -0.44807362,\n",
       "         1.        ],\n",
       "       [-0.95241298,  0.52532199,  0.52532199, -0.44807362,  0.52532199,\n",
       "        -0.59846007]])"
      ]
     },
     "execution_count": 142,
     "metadata": {},
     "output_type": "execute_result"
    }
   ],
   "source": [
    "# Exercise 2 - Find the cosine of all the numbers in d\n",
    "np.cos(d)"
   ]
  },
  {
   "cell_type": "code",
   "execution_count": 143,
   "metadata": {},
   "outputs": [
    {
     "data": {
      "text/plain": [
       "array([[-1.99520041, -6.4053312 ,  1.61977519,  0.        ,  0.71312301,\n",
       "         1.33869021],\n",
       "       [ 1.61977519,  1.99520041,  6.4053312 , -0.17883906, -1.99520041,\n",
       "         0.        ],\n",
       "       [ 0.32004039,  1.61977519, -1.61977519, -1.99520041, -1.61977519,\n",
       "         1.33869021]])"
      ]
     },
     "execution_count": 143,
     "metadata": {},
     "output_type": "execute_result"
    }
   ],
   "source": [
    "# Exercise 3 - Find the tangent of all the numbers in d\n",
    "np.tan(d)"
   ]
  },
  {
   "cell_type": "code",
   "execution_count": 144,
   "metadata": {},
   "outputs": [
    {
     "data": {
      "text/plain": [
       "array([-90, -30, -45, -45])"
      ]
     },
     "execution_count": 144,
     "metadata": {},
     "output_type": "execute_result"
    }
   ],
   "source": [
    "# Exercise 4 - Find all the negative numbers in d\n",
    "d = np.array(d)\n",
    "negative_mask = d < 0\n",
    "d[negative_mask]"
   ]
  },
  {
   "cell_type": "code",
   "execution_count": 145,
   "metadata": {},
   "outputs": [
    {
     "data": {
      "text/plain": [
       "array([ 90,  30,  45, 120, 180,  45, 270,  90,  60,  45,  90, 180])"
      ]
     },
     "execution_count": 145,
     "metadata": {},
     "output_type": "execute_result"
    }
   ],
   "source": [
    "# Exercise 5 - Find all the positive numbers in d\n",
    "positive_mask = d > 0\n",
    "d[positive_mask]"
   ]
  },
  {
   "cell_type": "code",
   "execution_count": 146,
   "metadata": {},
   "outputs": [
    {
     "data": {
      "text/plain": [
       "array([-90, -45, -30,   0,  30,  45,  60,  90, 120, 180, 270])"
      ]
     },
     "execution_count": 146,
     "metadata": {},
     "output_type": "execute_result"
    }
   ],
   "source": [
    "# Exercise 6 - Return an array of only the unique numbers in d.\n",
    "np.unique(d)"
   ]
  },
  {
   "cell_type": "code",
   "execution_count": 166,
   "metadata": {},
   "outputs": [
    {
     "data": {
      "text/plain": [
       "11"
      ]
     },
     "execution_count": 166,
     "metadata": {},
     "output_type": "execute_result"
    }
   ],
   "source": [
    "# Exercise 7 - Determine how many unique numbers there are in d.\n",
    "len(np.unique(d))"
   ]
  },
  {
   "cell_type": "code",
   "execution_count": 148,
   "metadata": {},
   "outputs": [
    {
     "data": {
      "text/plain": [
       "(3, 6)"
      ]
     },
     "execution_count": 148,
     "metadata": {},
     "output_type": "execute_result"
    }
   ],
   "source": [
    "d.shape"
   ]
  },
  {
   "cell_type": "code",
   "execution_count": 156,
   "metadata": {},
   "outputs": [
    {
     "name": "stdout",
     "output_type": "stream",
     "text": [
      "(6, 3)\n"
     ]
    }
   ],
   "source": [
    "# Exercise 9 - Transpose and then print out the shape of d.\n",
    "dtr = d.transpose()\n",
    "print(dtr.shape)"
   ]
  },
  {
   "cell_type": "code",
   "execution_count": 157,
   "metadata": {},
   "outputs": [
    {
     "data": {
      "text/plain": [
       "array([[ 90,  30],\n",
       "       [ 45,   0],\n",
       "       [120, 180],\n",
       "       [ 45, -90],\n",
       "       [-30, 270],\n",
       "       [ 90,   0],\n",
       "       [ 60,  45],\n",
       "       [-45,  90],\n",
       "       [-45, 180]])"
      ]
     },
     "execution_count": 157,
     "metadata": {},
     "output_type": "execute_result"
    }
   ],
   "source": [
    "# Exercise 10 - Reshape d into an array of 9 x 2\n",
    "d.reshape(9,2)"
   ]
  }
 ],
 "metadata": {
  "kernelspec": {
   "display_name": "base",
   "language": "python",
   "name": "python3"
  },
  "language_info": {
   "codemirror_mode": {
    "name": "ipython",
    "version": 3
   },
   "file_extension": ".py",
   "mimetype": "text/x-python",
   "name": "python",
   "nbconvert_exporter": "python",
   "pygments_lexer": "ipython3",
   "version": "3.11.3"
  },
  "orig_nbformat": 4
 },
 "nbformat": 4,
 "nbformat_minor": 2
}
